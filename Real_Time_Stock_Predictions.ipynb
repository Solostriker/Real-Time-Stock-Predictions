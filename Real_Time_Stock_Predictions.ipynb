{
  "nbformat": 4,
  "nbformat_minor": 0,
  "metadata": {
    "colab": {
      "provenance": [],
      "authorship_tag": "ABX9TyPy1bucQA+H5mdTyTfY5vDv",
      "include_colab_link": true
    },
    "kernelspec": {
      "name": "python3",
      "display_name": "Python 3"
    },
    "language_info": {
      "name": "python"
    }
  },
  "cells": [
    {
      "cell_type": "markdown",
      "metadata": {
        "id": "view-in-github",
        "colab_type": "text"
      },
      "source": [
        "<a href=\"https://colab.research.google.com/github/Solostriker/Real-Time-Stock-Predictions/blob/main/Real_Time_Stock_Predictions.ipynb\" target=\"_parent\"><img src=\"https://colab.research.google.com/assets/colab-badge.svg\" alt=\"Open In Colab\"/></a>"
      ]
    },
    {
      "cell_type": "code",
      "execution_count": null,
      "metadata": {
        "colab": {
          "base_uri": "https://localhost:8080/",
          "height": 525
        },
        "id": "M35DhRHAd54t",
        "outputId": "b8e048ea-8b97-48e4-e983-a3ba00125844"
      },
      "outputs": [
        {
          "output_type": "stream",
          "name": "stdout",
          "text": [
            "Requirement already satisfied: intrinio-sdk in /usr/local/lib/python3.10/dist-packages (6.26.8)\n",
            "Requirement already satisfied: urllib3>=1.15 in /usr/local/lib/python3.10/dist-packages (from intrinio-sdk) (2.0.7)\n",
            "Requirement already satisfied: six>=1.10 in /usr/local/lib/python3.10/dist-packages (from intrinio-sdk) (1.16.0)\n",
            "Requirement already satisfied: certifi in /usr/local/lib/python3.10/dist-packages (from intrinio-sdk) (2024.2.2)\n",
            "Requirement already satisfied: python-dateutil in /usr/local/lib/python3.10/dist-packages (from intrinio-sdk) (2.8.2)\n",
            "Requirement already satisfied: retrying>=1.3.3 in /usr/local/lib/python3.10/dist-packages (from intrinio-sdk) (1.3.4)\n"
          ]
        },
        {
          "output_type": "error",
          "ename": "ApiException",
          "evalue": "(401)\nReason: Unauthorized\nHTTP response headers: HTTPHeaderDict({'Date': 'Mon, 26 Feb 2024 13:11:23 GMT', 'Content-Type': 'application/json', 'Content-Length': '104', 'Connection': 'keep-alive', 'Vary': 'Origin,Accept-Encoding'})\nHTTP response body: {\"human\":\"No active subscription(s).\",\"message\":\"An active subscription is required to view this data.\"}\n",
          "traceback": [
            "\u001b[0;31m---------------------------------------------------------------------------\u001b[0m",
            "\u001b[0;31mApiException\u001b[0m                              Traceback (most recent call last)",
            "\u001b[0;32m<ipython-input-2-5d0b6f96b6c7>\u001b[0m in \u001b[0;36m<cell line: 13>\u001b[0;34m()\u001b[0m\n\u001b[1;32m     11\u001b[0m \u001b[0msource\u001b[0m \u001b[0;34m=\u001b[0m \u001b[0;34m'nasdaq_basic'\u001b[0m\u001b[0;34m\u001b[0m\u001b[0;34m\u001b[0m\u001b[0m\n\u001b[1;32m     12\u001b[0m \u001b[0;34m\u001b[0m\u001b[0m\n\u001b[0;32m---> 13\u001b[0;31m \u001b[0mresponse\u001b[0m \u001b[0;34m=\u001b[0m \u001b[0mintrinio\u001b[0m\u001b[0;34m.\u001b[0m\u001b[0mSecurityApi\u001b[0m\u001b[0;34m(\u001b[0m\u001b[0;34m)\u001b[0m\u001b[0;34m.\u001b[0m\u001b[0mget_security_realtime_price\u001b[0m\u001b[0;34m(\u001b[0m\u001b[0midentifier\u001b[0m\u001b[0;34m,\u001b[0m \u001b[0msource\u001b[0m\u001b[0;34m=\u001b[0m\u001b[0msource\u001b[0m\u001b[0;34m)\u001b[0m\u001b[0;34m\u001b[0m\u001b[0;34m\u001b[0m\u001b[0m\n\u001b[0m\u001b[1;32m     14\u001b[0m \u001b[0mprint\u001b[0m\u001b[0;34m(\u001b[0m\u001b[0mresponse\u001b[0m\u001b[0;34m)\u001b[0m\u001b[0;34m\u001b[0m\u001b[0;34m\u001b[0m\u001b[0m\n",
            "\u001b[0;32m/usr/local/lib/python3.10/dist-packages/intrinio_sdk/api/security_api.py\u001b[0m in \u001b[0;36mget_security_realtime_price\u001b[0;34m(self, identifier, **kwargs)\u001b[0m\n\u001b[1;32m   5460\u001b[0m             \u001b[0;32mreturn\u001b[0m \u001b[0mself\u001b[0m\u001b[0;34m.\u001b[0m\u001b[0mget_security_realtime_price_with_http_info\u001b[0m\u001b[0;34m(\u001b[0m\u001b[0midentifier\u001b[0m\u001b[0;34m,\u001b[0m \u001b[0;34m**\u001b[0m\u001b[0mkwargs\u001b[0m\u001b[0;34m)\u001b[0m  \u001b[0;31m# noqa: E501\u001b[0m\u001b[0;34m\u001b[0m\u001b[0;34m\u001b[0m\u001b[0m\n\u001b[1;32m   5461\u001b[0m         \u001b[0;32melse\u001b[0m\u001b[0;34m:\u001b[0m\u001b[0;34m\u001b[0m\u001b[0;34m\u001b[0m\u001b[0m\n\u001b[0;32m-> 5462\u001b[0;31m             \u001b[0;34m(\u001b[0m\u001b[0mdata\u001b[0m\u001b[0;34m)\u001b[0m \u001b[0;34m=\u001b[0m \u001b[0mself\u001b[0m\u001b[0;34m.\u001b[0m\u001b[0mget_security_realtime_price_with_http_info\u001b[0m\u001b[0;34m(\u001b[0m\u001b[0midentifier\u001b[0m\u001b[0;34m,\u001b[0m \u001b[0;34m**\u001b[0m\u001b[0mkwargs\u001b[0m\u001b[0;34m)\u001b[0m  \u001b[0;31m# noqa: E501\u001b[0m\u001b[0;34m\u001b[0m\u001b[0;34m\u001b[0m\u001b[0m\n\u001b[0m\u001b[1;32m   5463\u001b[0m             \u001b[0;32mreturn\u001b[0m \u001b[0mdata\u001b[0m\u001b[0;34m\u001b[0m\u001b[0;34m\u001b[0m\u001b[0m\n\u001b[1;32m   5464\u001b[0m \u001b[0;34m\u001b[0m\u001b[0m\n",
            "\u001b[0;32m/usr/local/lib/python3.10/dist-packages/intrinio_sdk/api/security_api.py\u001b[0m in \u001b[0;36mget_security_realtime_price_with_http_info\u001b[0;34m(self, identifier, **kwargs)\u001b[0m\n\u001b[1;32m   5523\u001b[0m         \u001b[0mauth_settings\u001b[0m \u001b[0;34m=\u001b[0m \u001b[0;34m[\u001b[0m\u001b[0;34m'ApiKeyAuth'\u001b[0m\u001b[0;34m]\u001b[0m  \u001b[0;31m# noqa: E501\u001b[0m\u001b[0;34m\u001b[0m\u001b[0;34m\u001b[0m\u001b[0m\n\u001b[1;32m   5524\u001b[0m \u001b[0;34m\u001b[0m\u001b[0m\n\u001b[0;32m-> 5525\u001b[0;31m         return self.api_client.call_api(\n\u001b[0m\u001b[1;32m   5526\u001b[0m             \u001b[0;34m'/securities/{identifier}/prices/realtime'\u001b[0m\u001b[0;34m,\u001b[0m \u001b[0;34m'GET'\u001b[0m\u001b[0;34m,\u001b[0m\u001b[0;34m\u001b[0m\u001b[0;34m\u001b[0m\u001b[0m\n\u001b[1;32m   5527\u001b[0m             \u001b[0mpath_params\u001b[0m\u001b[0;34m,\u001b[0m\u001b[0;34m\u001b[0m\u001b[0;34m\u001b[0m\u001b[0m\n",
            "\u001b[0;32m/usr/local/lib/python3.10/dist-packages/intrinio_sdk/api_client.py\u001b[0m in \u001b[0;36mcall_api\u001b[0;34m(self, resource_path, method, path_params, query_params, header_params, body, post_params, files, response_type, auth_settings, _async, _return_http_data_only, collection_formats, _preload_content, _request_timeout)\u001b[0m\n\u001b[1;32m    349\u001b[0m         \"\"\"\n\u001b[1;32m    350\u001b[0m         \u001b[0;32mif\u001b[0m \u001b[0;32mnot\u001b[0m \u001b[0m_async\u001b[0m\u001b[0;34m:\u001b[0m\u001b[0;34m\u001b[0m\u001b[0;34m\u001b[0m\u001b[0m\n\u001b[0;32m--> 351\u001b[0;31m             return self.__call_api(resource_path, method,\n\u001b[0m\u001b[1;32m    352\u001b[0m                                    \u001b[0mpath_params\u001b[0m\u001b[0;34m,\u001b[0m \u001b[0mquery_params\u001b[0m\u001b[0;34m,\u001b[0m \u001b[0mheader_params\u001b[0m\u001b[0;34m,\u001b[0m\u001b[0;34m\u001b[0m\u001b[0;34m\u001b[0m\u001b[0m\n\u001b[1;32m    353\u001b[0m                                    \u001b[0mbody\u001b[0m\u001b[0;34m,\u001b[0m \u001b[0mpost_params\u001b[0m\u001b[0;34m,\u001b[0m \u001b[0mfiles\u001b[0m\u001b[0;34m,\u001b[0m\u001b[0;34m\u001b[0m\u001b[0;34m\u001b[0m\u001b[0m\n",
            "\u001b[0;32m/usr/local/lib/python3.10/dist-packages/intrinio_sdk/api_client.py\u001b[0m in \u001b[0;36m__call_api\u001b[0;34m(self, resource_path, method, path_params, query_params, header_params, body, post_params, files, response_type, auth_settings, _return_http_data_only, collection_formats, _preload_content, _request_timeout)\u001b[0m\n\u001b[1;32m    187\u001b[0m \u001b[0;34m\u001b[0m\u001b[0m\n\u001b[1;32m    188\u001b[0m         \u001b[0;32mif\u001b[0m \u001b[0misinstance\u001b[0m\u001b[0;34m(\u001b[0m\u001b[0mresponse_data\u001b[0m\u001b[0;34m,\u001b[0m \u001b[0mrest\u001b[0m\u001b[0;34m.\u001b[0m\u001b[0mApiException\u001b[0m\u001b[0;34m)\u001b[0m\u001b[0;34m:\u001b[0m\u001b[0;34m\u001b[0m\u001b[0;34m\u001b[0m\u001b[0m\n\u001b[0;32m--> 189\u001b[0;31m             \u001b[0;32mraise\u001b[0m \u001b[0mresponse_data\u001b[0m\u001b[0;34m\u001b[0m\u001b[0;34m\u001b[0m\u001b[0m\n\u001b[0m\u001b[1;32m    190\u001b[0m \u001b[0;34m\u001b[0m\u001b[0m\n\u001b[1;32m    191\u001b[0m         \u001b[0mreturn_data\u001b[0m \u001b[0;34m=\u001b[0m \u001b[0mresponse_data\u001b[0m\u001b[0;34m\u001b[0m\u001b[0;34m\u001b[0m\u001b[0m\n",
            "\u001b[0;32m/usr/local/lib/python3.10/dist-packages/intrinio_sdk/api_client.py\u001b[0m in \u001b[0;36mapi_call_request\u001b[0;34m(method, url, query_params, post_params, headers, body, _preload_content, _request_timeout)\u001b[0m\n\u001b[1;32m    158\u001b[0m             \u001b[0;31m# perform request and return response\u001b[0m\u001b[0;34m\u001b[0m\u001b[0;34m\u001b[0m\u001b[0m\n\u001b[1;32m    159\u001b[0m             \u001b[0;32mtry\u001b[0m\u001b[0;34m:\u001b[0m\u001b[0;34m\u001b[0m\u001b[0;34m\u001b[0m\u001b[0m\n\u001b[0;32m--> 160\u001b[0;31m                 response = self.request(\n\u001b[0m\u001b[1;32m    161\u001b[0m                     \u001b[0mmethod\u001b[0m\u001b[0;34m,\u001b[0m \u001b[0murl\u001b[0m\u001b[0;34m,\u001b[0m \u001b[0mquery_params\u001b[0m\u001b[0;34m=\u001b[0m\u001b[0mquery_params\u001b[0m\u001b[0;34m,\u001b[0m \u001b[0mheaders\u001b[0m\u001b[0;34m=\u001b[0m\u001b[0mheaders\u001b[0m\u001b[0;34m,\u001b[0m\u001b[0;34m\u001b[0m\u001b[0;34m\u001b[0m\u001b[0m\n\u001b[1;32m    162\u001b[0m                     \u001b[0mpost_params\u001b[0m\u001b[0;34m=\u001b[0m\u001b[0mpost_params\u001b[0m\u001b[0;34m,\u001b[0m \u001b[0mbody\u001b[0m\u001b[0;34m=\u001b[0m\u001b[0mbody\u001b[0m\u001b[0;34m,\u001b[0m\u001b[0;34m\u001b[0m\u001b[0;34m\u001b[0m\u001b[0m\n",
            "\u001b[0;32m/usr/local/lib/python3.10/dist-packages/intrinio_sdk/api_client.py\u001b[0m in \u001b[0;36mrequest\u001b[0;34m(self, method, url, query_params, headers, post_params, body, _preload_content, _request_timeout)\u001b[0m\n\u001b[1;32m    371\u001b[0m         \u001b[0;34m\"\"\"Makes the HTTP request using RESTClient.\"\"\"\u001b[0m\u001b[0;34m\u001b[0m\u001b[0;34m\u001b[0m\u001b[0m\n\u001b[1;32m    372\u001b[0m         \u001b[0;32mif\u001b[0m \u001b[0mmethod\u001b[0m \u001b[0;34m==\u001b[0m \u001b[0;34m\"GET\"\u001b[0m\u001b[0;34m:\u001b[0m\u001b[0;34m\u001b[0m\u001b[0;34m\u001b[0m\u001b[0m\n\u001b[0;32m--> 373\u001b[0;31m             return self.rest_client.GET(url,\n\u001b[0m\u001b[1;32m    374\u001b[0m                                         \u001b[0mquery_params\u001b[0m\u001b[0;34m=\u001b[0m\u001b[0mquery_params\u001b[0m\u001b[0;34m,\u001b[0m\u001b[0;34m\u001b[0m\u001b[0;34m\u001b[0m\u001b[0m\n\u001b[1;32m    375\u001b[0m                                         \u001b[0m_preload_content\u001b[0m\u001b[0;34m=\u001b[0m\u001b[0m_preload_content\u001b[0m\u001b[0;34m,\u001b[0m\u001b[0;34m\u001b[0m\u001b[0;34m\u001b[0m\u001b[0m\n",
            "\u001b[0;32m/usr/local/lib/python3.10/dist-packages/intrinio_sdk/rest.py\u001b[0m in \u001b[0;36mGET\u001b[0;34m(self, url, headers, query_params, _preload_content, _request_timeout)\u001b[0m\n\u001b[1;32m    238\u001b[0m     def GET(self, url, headers=None, query_params=None, _preload_content=True,\n\u001b[1;32m    239\u001b[0m             _request_timeout=None):\n\u001b[0;32m--> 240\u001b[0;31m         return self.request(\"GET\", url,\n\u001b[0m\u001b[1;32m    241\u001b[0m                             \u001b[0mheaders\u001b[0m\u001b[0;34m=\u001b[0m\u001b[0mheaders\u001b[0m\u001b[0;34m,\u001b[0m\u001b[0;34m\u001b[0m\u001b[0;34m\u001b[0m\u001b[0m\n\u001b[1;32m    242\u001b[0m                             \u001b[0m_preload_content\u001b[0m\u001b[0;34m=\u001b[0m\u001b[0m_preload_content\u001b[0m\u001b[0;34m,\u001b[0m\u001b[0;34m\u001b[0m\u001b[0;34m\u001b[0m\u001b[0m\n",
            "\u001b[0;32m/usr/local/lib/python3.10/dist-packages/intrinio_sdk/rest.py\u001b[0m in \u001b[0;36mrequest\u001b[0;34m(self, method, url, query_params, headers, body, post_params, _preload_content, _request_timeout)\u001b[0m\n\u001b[1;32m    232\u001b[0m \u001b[0;34m\u001b[0m\u001b[0m\n\u001b[1;32m    233\u001b[0m         \u001b[0;32mif\u001b[0m \u001b[0;32mnot\u001b[0m \u001b[0;36m200\u001b[0m \u001b[0;34m<=\u001b[0m \u001b[0mr\u001b[0m\u001b[0;34m.\u001b[0m\u001b[0mstatus\u001b[0m \u001b[0;34m<=\u001b[0m \u001b[0;36m299\u001b[0m\u001b[0;34m:\u001b[0m\u001b[0;34m\u001b[0m\u001b[0;34m\u001b[0m\u001b[0m\n\u001b[0;32m--> 234\u001b[0;31m             \u001b[0;32mraise\u001b[0m \u001b[0mApiException\u001b[0m\u001b[0;34m(\u001b[0m\u001b[0mhttp_resp\u001b[0m\u001b[0;34m=\u001b[0m\u001b[0mr\u001b[0m\u001b[0;34m)\u001b[0m\u001b[0;34m\u001b[0m\u001b[0;34m\u001b[0m\u001b[0m\n\u001b[0m\u001b[1;32m    235\u001b[0m \u001b[0;34m\u001b[0m\u001b[0m\n\u001b[1;32m    236\u001b[0m         \u001b[0;32mreturn\u001b[0m \u001b[0mr\u001b[0m\u001b[0;34m\u001b[0m\u001b[0;34m\u001b[0m\u001b[0m\n",
            "\u001b[0;31mApiException\u001b[0m: (401)\nReason: Unauthorized\nHTTP response headers: HTTPHeaderDict({'Date': 'Mon, 26 Feb 2024 13:11:23 GMT', 'Content-Type': 'application/json', 'Content-Length': '104', 'Connection': 'keep-alive', 'Vary': 'Origin,Accept-Encoding'})\nHTTP response body: {\"human\":\"No active subscription(s).\",\"message\":\"An active subscription is required to view this data.\"}\n"
          ]
        }
      ],
      "source": [
        "!pip install intrinio-sdk\n",
        "\n",
        "import intrinio_sdk as intrinio\n",
        "import numpy as np\n",
        "import pandas as pd\n",
        "import time\n",
        "\n",
        "intrinio.ApiClient().set_api_key('OjljOTM0MmQwMjEyMzM2MWY5YmYzNTM5ZjEwOTE1NTZh')\n",
        "\n",
        "identifier = 'AAPL'\n",
        "source = 'nasdaq_basic'\n",
        "\n",
        "response = intrinio.SecurityApi().get_security_realtime_price(identifier, source=source)\n",
        "print(response)"
      ]
    },
    {
      "cell_type": "code",
      "source": [
        "class QLearningTrader:\n",
        "\n",
        "    def __init__(self, num_actions, num_features, learning_rate, discount_factor, exploration_prob):\n",
        "        self.num_actions = num_actions\n",
        "        self.num_features = num_features\n",
        "        self.learning_rate = learning_rate\n",
        "        self.discount_factor = discount_factor\n",
        "        self.exploration_prob = exploration_prob\n",
        "\n",
        "        self.q_table = np.zeros((num_actions, num_features))\n",
        "\n",
        "        self.current_state = None\n",
        "        self.current_action = None"
      ],
      "metadata": {
        "id": "Q7ExqQfreuEs"
      },
      "execution_count": null,
      "outputs": []
    },
    {
      "cell_type": "code",
      "source": [
        "def choose_action(self, state):\n",
        "\n",
        "        if np.random.uniform(0, 1) < self.exploration_prob:\n",
        "            return np.random.choice(self.num_actions)\n",
        "        else:\n",
        "            feature_index = np.argmax(state)\n",
        "            return np.argmax(self.q_table[:, feature_index])"
      ],
      "metadata": {
        "id": "kqpkjrlffHiP"
      },
      "execution_count": null,
      "outputs": []
    },
    {
      "cell_type": "code",
      "source": [
        "def calculate_reward(action, current_close, next_close):\n",
        "\n",
        "    if action == 0:\n",
        "        return 1.0 if next_close > current_close else -1.0\n",
        "    elif action == 1:\n",
        "        return 1.0 if next_close < current_close else -1.0\n",
        "    else:\n",
        "        return 1.0 if next_close > current_close else -1.0 if next_close < current_close else 0.0"
      ],
      "metadata": {
        "id": "qgeT7gLAfLmy"
      },
      "execution_count": null,
      "outputs": []
    },
    {
      "cell_type": "code",
      "source": [
        "def fetch_real_time_data(identifier):\n",
        "\n",
        "    source = 'nasdaq_basic'\n",
        "    response = intrinio.SecurityApi().get_security_realtime_price(identifier, source=source)\n",
        "\n",
        "    return {\n",
        "        'open': response.open_price,\n",
        "        'high': response.high_price,\n",
        "        'low': response.low_price,\n",
        "        'close': response.last_price,\n",
        "        'volume': response.last_size\n",
        "    }"
      ],
      "metadata": {
        "id": "L6851xcJfclx"
      },
      "execution_count": null,
      "outputs": []
    },
    {
      "cell_type": "code",
      "source": [
        "def observe_real_time_data(self,identifier):\n",
        "  real_time_data = fetch_real_time_data(identifier)\n",
        "\n",
        "  self.current_state = np.array([real_time_data['open'], real_time_data['high'],real_time_data['low'], real_time_data['close'],real_time_data['volume']])\n",
        "\n",
        "def observe_next_state(self,identifier):\n",
        "  self.current_state = fetch_real_time_data(identifier)"
      ],
      "metadata": {
        "id": "JBK4qe1JffQQ"
      },
      "execution_count": null,
      "outputs": []
    },
    {
      "cell_type": "code",
      "source": [
        "def take_action(self, action, reward):\n",
        "\n",
        "  if self.current_action is not None:\n",
        "    feature_index = np.argmax(self.current_state)\n",
        "    current_q_value = self.q_table[self.current_action, feature_index]\n",
        "    new_q_value = (1 - self.learning_rate) * current_q_value + self.learning_rate * (reward + self.discount_factor *np.max(self.q_table[:, feature_index]))\n",
        "    self.q_table[self.current_action, feature_index] = new_q_value\n",
        "\n",
        "  self.current_state = None\n",
        "  self.current_action = action"
      ],
      "metadata": {
        "id": "7xm8_KVgfmoM"
      },
      "execution_count": null,
      "outputs": []
    },
    {
      "cell_type": "code",
      "source": [
        "def calculate_profit_loss(initial_balance, suggested_action, current_close, next_close, quantity):\n",
        "\n",
        "    if suggested_action == \"Buy\":\n",
        "        return (next_close - current_close) * quantity\n",
        "    elif suggested_action == \"Sell\":\n",
        "        return (current_close - next_close) * quantity\n",
        "    else:\n",
        "        return 0.0"
      ],
      "metadata": {
        "id": "RHeT14MCfpSs"
      },
      "execution_count": null,
      "outputs": []
    },
    {
      "cell_type": "code",
      "source": [
        "def calculate_final_profit(identifier, initial_balance, quantity, num_iterations, learning_rate, discount_factor, exploration_prob):\n",
        "    num_actions = 3\n",
        "    num_features = 5\n",
        "    q_trader = QLearningTrader(num_actions, num_features, learning_rate, discount_factor, exploration_prob)\n",
        "\n",
        "    for i in range(num_iterations):\n",
        "        q_trader.observe_real_time_data(identifier)\n",
        "\n",
        "        action = q_trader.choose_action(q_trader.current_state)\n",
        "        current_close = q_trader.current_state[3]\n",
        "\n",
        "        time.sleep(1)\n",
        "\n",
        "        q_trader.observe_next_state(identifier)\n",
        "        next_close = q_trader.current_state['close']\n",
        "\n",
        "        reward = calculate_reward(action, current_close, next_close)\n",
        "        q_trader.take_action(action, reward)\n",
        "\n",
        "    final_real_time_data = fetch_real_time_data(identifier)\n",
        "\n",
        "    final_suggested_action = [\"Buy\", \"Sell\", \"Hold\"][np.argmax(q_trader.q_table[:, np.argmax(q_trader.current_state)])]\n",
        "\n",
        "    final_profit = calculate_profit_loss(initial_balance, final_suggested_action, current_close, final_real_time_data['close'], quantity)\n",
        "\n",
        "    print(f\"Final Suggested Action: {final_suggested_action}, Final Profit: {final_profit}\")"
      ],
      "metadata": {
        "id": "PUZ2_hLVgmX-"
      },
      "execution_count": null,
      "outputs": []
    },
    {
      "cell_type": "code",
      "source": [
        "class QLearningTrader:\n",
        "    def __init__(self, num_actions, num_features, learning_rate, discount_factor, exploration_prob):\n",
        "        self.num_actions = num_actions\n",
        "        self.num_features = num_features\n",
        "        self.learning_rate = learning_rate\n",
        "        self.discount_factor = discount_factor\n",
        "        self.exploration_prob = exploration_prob\n",
        "\n",
        "        self.q_table = np.zeros((num_actions, num_features))\n",
        "\n",
        "        self.current_state = None\n",
        "        self.current_action = None\n",
        "\n",
        "    def choose_action(self, state):\n",
        "        if np.random.uniform(0, 1) < self.exploration_prob:\n",
        "            return np.random.choice(self.num_actions)\n",
        "        else:\n",
        "            feature_index = np.argmax(state)\n",
        "            return np.argmax(self.q_table[:, feature_index])\n",
        "\n",
        "    def take_action(self, action, reward):\n",
        "        if self.current_action is not None:\n",
        "            feature_index = np.argmax(self.current_state)\n",
        "            current_q_value = self.q_table[self.current_action, feature_index]\n",
        "            new_q_value = (1 - self.learning_rate) * current_q_value + \\\n",
        "                           self.learning_rate * (reward + self.discount_factor * np.max(self.q_table[:, feature_index]))\n",
        "            self.q_table[self.current_action, feature_index] = new_q_value\n",
        "\n",
        "        self.current_state = None\n",
        "        self.current_action = action\n",
        "\n",
        "    def observe_real_time_data(self, identifier):\n",
        "        real_time_data = fetch_real_time_data(identifier)\n",
        "\n",
        "        self.current_state = np.array([real_time_data['open'], real_time_data['high'],\n",
        "                                       real_time_data['low'], real_time_data['close'],\n",
        "                                       real_time_data['volume']])\n",
        "\n",
        "    def observe_next_state(self, identifier):\n",
        "        self.current_state = fetch_real_time_data(identifier)\n",
        "\n",
        "def fetch_real_time_data(identifier):\n",
        "    source = 'nasdaq_basic'\n",
        "    response = intrinio.SecurityApi().get_security_realtime_price(identifier, source=source)\n",
        "\n",
        "    return {\n",
        "        'open': response.open_price,\n",
        "        'high': response.high_price,\n",
        "        'low': response.low_price,\n",
        "        'close': response.last_price,\n",
        "        'volume': response.last_size\n",
        "    }\n",
        "\n",
        "def calculate_reward(action, current_close, next_close):\n",
        "    if action == 0:\n",
        "        return 1.0 if next_close > current_close else -1.0\n",
        "    elif action == 1:\n",
        "        return 1.0 if next_close < current_close else -1.0\n",
        "    else:\n",
        "        return 1.0 if next_close > current_close else -1.0 if next_close < current_close else 0.0\n",
        "\n",
        "def calculate_profit_loss(initial_balance, suggested_action, current_close, next_close, quantity):\n",
        "    if suggested_action == \"Buy\":\n",
        "        return (next_close - current_close) * quantity\n",
        "    elif suggested_action == \"Sell\":\n",
        "        return (current_close - next_close) * quantity\n",
        "    else:\n",
        "        return 0.0\n",
        "\n",
        "def calculate_final_profit(identifier, initial_balance, quantity, num_iterations, learning_rate, discount_factor, exploration_prob):\n",
        "    num_actions = 3\n",
        "    num_features = 5\n",
        "    q_trader = QLearningTrader(num_actions, num_features, learning_rate, discount_factor, exploration_prob)\n",
        "\n",
        "    for i in range(num_iterations):\n",
        "        q_trader.observe_real_time_data(identifier)\n",
        "\n",
        "        action = q_trader.choose_action(q_trader.current_state)\n",
        "        current_close = q_trader.current_state[3]\n",
        "\n",
        "        time.sleep(1)\n",
        "\n",
        "        q_trader.observe_next_state(identifier)\n",
        "        next_close = q_trader.current_state['close']\n",
        "\n",
        "        reward = calculate_reward(action, current_close, next_close)\n",
        "        q_trader.take_action(action, reward)\n",
        "\n",
        "    final_real_time_data = fetch_real_time_data(identifier)\n",
        "\n",
        "    final_suggested_action = [\"Buy\", \"Sell\", \"Hold\"][np.argmax(q_trader.q_table[:, np.argmax(q_trader.current_state)])]\n",
        "\n",
        "    final_profit = calculate_profit_loss(initial_balance, final_suggested_action, current_close, final_real_time_data['close'], quantity)\n",
        "\n",
        "    print(f\"Final Suggested Action: {final_suggested_action}, Final Profit: {final_profit}\")\n",
        "Now, let’s conduct the ultimate experiment to analyze the results:\n",
        "\n",
        "\n",
        "security_identifier = 'AAPL'\n",
        "calculate_final_profit(security_identifier, initial_balance = 100, quantity = 10, num_iterations = 180, learning_rate = 0.1, discount_factor = 0.9, exploration_prob = 0.2)"
      ],
      "metadata": {
        "id": "-xlo7gNqgo-M"
      },
      "execution_count": null,
      "outputs": []
    }
  ]
}